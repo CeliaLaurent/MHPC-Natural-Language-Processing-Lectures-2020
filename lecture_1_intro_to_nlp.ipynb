{
  "nbformat": 4,
  "nbformat_minor": 0,
  "metadata": {
    "colab": {
      "name": "lecture-1_intro-to-nlp.ipynb",
      "provenance": [],
      "collapsed_sections": [
        "PNbGJa5Xkhb1",
        "2n8XiGYekdtn",
        "KWeQN6ugkjir",
        "2lrg8QCvkXmt",
        "ZA_clsOD0NZm",
        "XwbawFNt39dM",
        "i9W0DCK4bdwT",
        "JH_kCJmzkGYd",
        "1WyqkEFmFj2O",
        "nSe2tzw5FgaG",
        "R4PEN5khNR4m",
        "USTpjSHcj3bA",
        "K88XqXECTV1f",
        "_nUazbJq1R9Q",
        "pO8d1MqVFZX5"
      ],
      "authorship_tag": "ABX9TyNcLDv7UiKbvR8WziDsok7b",
      "include_colab_link": true
    },
    "kernelspec": {
      "name": "python3",
      "display_name": "Python 3"
    }
  },
  "cells": [
    {
      "cell_type": "markdown",
      "metadata": {
        "id": "view-in-github",
        "colab_type": "text"
      },
      "source": [
        "<a href=\"https://colab.research.google.com/github/denocris/MHPC-Natural-Language-Processing-Lectures-2020/blob/master/lecture_1_intro_to_nlp.ipynb\" target=\"_parent\"><img src=\"https://colab.research.google.com/assets/colab-badge.svg\" alt=\"Open In Colab\"/></a>"
      ]
    },
    {
      "cell_type": "markdown",
      "metadata": {
        "id": "dvnISh2tMuNU",
        "colab_type": "text"
      },
      "source": [
        "# Introduction Natural Language Processing (Lecture I)"
      ]
    },
    {
      "cell_type": "markdown",
      "metadata": {
        "id": "jlHISafNWVhC",
        "colab_type": "text"
      },
      "source": [
        "## Presentation and Course Description\n"
      ]
    },
    {
      "cell_type": "markdown",
      "metadata": {
        "id": "2jitys8FWaX8",
        "colab_type": "text"
      },
      "source": [
        "### Who am I?\n",
        "\n",
        "I am Cristiano De Nobili. Here a slide with my path [*from physics to somewhere!*](https://docs.google.com/presentation/d/1xQ5VqDFYvDWu6cmu9OsqnSZGMOV9pgI25Cy2AFprR3k/edit?usp=sharing).\n",
        "\n",
        "\n",
        "### My Contacts\n",
        "For any questions or doubts you can find my contacts here:\n",
        "\n",
        "* [Linkedin](https://www.linkedin.com/in/cristiano-de-nobili/) and [Twitter](https://twitter.com/denocris) (here I regulary post about AI and Science news)\n",
        "* My [Personal Website](https://denocris.com)\n",
        "* My [Instagram](https://www.instagram.com/denocris/?hl=it) (I am a Pilot, so here I mostly post about traveling, flying and adventures)\n",
        "* My recent TEDx on [AI and Human Creativity](https://youtu.be/8-hrmer9d_E)\n",
        "\n",
        "### Course Repository\n",
        "\n",
        "All notebooks can be found [here!](https://github.com/denocris/MHPC-Natural-Language-Processing-Lectures-2020)\n",
        "\n",
        "\n",
        "\n",
        "---\n",
        "\n",
        "\n",
        "\n",
        "---\n",
        "\n",
        "\n"
      ]
    },
    {
      "cell_type": "markdown",
      "metadata": {
        "id": "mZaWqJuZdQSp",
        "colab_type": "text"
      },
      "source": [
        "### Course Presentation and Outline"
      ]
    },
    {
      "cell_type": "markdown",
      "metadata": {
        "id": "VtSIBL4wkV2r",
        "colab_type": "text"
      },
      "source": [
        "\n",
        "This year's course will be about Deep Learning for Natural Language Processing. It is completely different from last year course. Around 80% of the material is new and state-of-the-art. That means that it did not exist last year. I apologize in advance if there are some typos. I prepared it from scratch just for you. The deep learning framework chosen for this year is [PyTorch](https://pytorch.org/). In addition, we will take advantages of two NLP libraries: [spaCy](https://spacy.io) by Explosion AI and [Transformers](https://github.com/huggingface/transformers) by Hugging Face.\n",
        "\n",
        "If you are interested in last year course, it was about Generative Models. In particular Variational Autoencoders (denoising) and Sequence-to-sequence models (as character-based spell-checker). Here you can find last year course [Repo](https://github.com/denocris/MHPC-DeepLearning-Lectures-2019).\n",
        "\n",
        "#### Outline\n",
        "\n",
        "* Lecture 1: intro to NLP, text preprocessing, spaCy, non-contextual word embedding, SkipGram Word2Vec coded from scratch, pre-trained Glove with Gensim, intro to contextual word embedding.\n",
        "\n",
        "* Lecture 2: NLP with Transformers (by Hugging Face)\n",
        "\n",
        "* Letrue 3: word-sense disambiguation with Italian RoBERTa, embeddings visualization\n",
        "\n",
        "#### Disclaimer\n",
        "\n",
        "* NLP is a huge topics. It is impossible to cover it all in a few hours. If during the lectures some parts of the code appear to you mysterious do not worry. All the notebooks are yours (and it is a lot of material!) and you can play with them in the next weeks if you are interested.\n",
        "\n",
        "* NLP is evolving very fast. For instance, in the last year many fundamental things have changed. From algorithms to tools and libraries. Also for experts of the fields, it is impossible to stay fully updated.\n",
        "\n",
        "\n",
        "#### Additional Refs\n",
        "\n",
        "* [Natural Language Processing with Deep Learning (Stanford Edu)](http://web.stanford.edu/class/cs224n/) \n",
        "* [A Code-First Intro to Natural Language Processing (FastAI)](https://github.com/fastai/course-nlp) \n",
        "\n",
        "To stay updated (first of all follow on twitter and LinkedIn relevant influencers)\n",
        "\n",
        "* [NLP-Progress by Sebastian Ruder (FastAI)](https://nlpprogress.com/) \n",
        "\n",
        "Then a curated list of PyTorch tutorials, projects, libraries\n",
        "\n",
        "* [The incredible PyTorch](https://github.com/ritchieng/the-incredible-pytorch)"
      ]
    },
    {
      "cell_type": "markdown",
      "metadata": {
        "id": "LMZasGdRgO3A",
        "colab_type": "text"
      },
      "source": [
        "### Why Colab? \n",
        "Colab (Google Colaboratory) is a free cloud service based on Jupyter Notebooks that supports free GPU!!\n",
        "\n",
        "Lectures will be held through Colab Notebooks. To download each notebook there are few and really simple steps to do:"
      ]
    },
    {
      "cell_type": "markdown",
      "metadata": {
        "id": "PNbGJa5Xkhb1",
        "colab_type": "text"
      },
      "source": [
        "## What is Natural Language Processing?\n"
      ]
    },
    {
      "cell_type": "markdown",
      "metadata": {
        "id": "A4_AIyXdjEob",
        "colab_type": "text"
      },
      "source": [
        "Natural Language Processing is a branch of computer science and artificial intelligence that enables computers to extract meaning from unstructured text.Computers are super-fast and super-good to process this kind of problem:\n",
        "\n",
        "```\n",
        "import pandas as pd\n",
        "df = pd.read_csv(r'all_pubs_in_italy.csv')  \n",
        "df[df.menu.str.contains('spritz')]\n",
        "```\n",
        "\n",
        "but they are structured problems. Even if the computer is processing a text, somehow this text is not as natural as the Human language:\n",
        "\n",
        "`\"Ehi, ciao... mi diresti tutti i locali in cui posso bere uno spritz?\"`\n",
        "\n",
        "The language-processing capabilities of the human mind have been considered the most complex task for artificial intelligence. Human language is full of ambiguities.\n",
        "\n",
        "<center>  <img src=\"https://docs.google.com/uc?export=download&id=1BaKxrGQb_sPdtK-rFSNkrUv8e30P_4N4\" width=\"650\" height=\"400\"> </center> \n",
        "\n",
        "Moreover...\n",
        "\n",
        "- Language is highly ambiguous at all levels: \n",
        "\t- (Homophonic)  `l’amorale/la morale - hanno/anno - ai/hai` or `There is no right way to write a great novel`.\n",
        "\t- (Sintactic)  `Chiara ha visto Luca in giardino con il cannocchiale`, `Chiara saw Luca inthe garden with a telescope.`\n",
        "\t- (Irony)  `Il mio volo è in ritardo. Splendido! `, `My flight is delayed. Wonderful! `\n",
        "- Humans often express their intent through semantically inaccurate language (dialects, sociolets, speech registers, errors when typing...)\n",
        "\n",
        "\n",
        "In addition, computers do not directly understand words. Classical approaches to NLP, were based on *rule-based AI* (*symbolic AI systems*) in which software engineers explicity specified the rules of parsing the meaning of language. This was labor-intensive and had limited application. \n",
        "\n",
        "The past few years NLP has been revolutionazed by **Deep Learning**!\n",
        "\n",
        "---\n",
        "\n",
        "Advances in the field of NLP have even paved the way for new applications. Here some of the most common examples:\n",
        "\n",
        "- Text Classification\n",
        "- Text Clustering\n",
        "- Text Summarisation\n",
        "- Machine Translation\n",
        "- Sentiment Analysis\n",
        "- Question Answering\n",
        "- Digital Assistant and Chatbot\n",
        "\n"
      ]
    },
    {
      "cell_type": "markdown",
      "metadata": {
        "id": "2n8XiGYekdtn",
        "colab_type": "text"
      },
      "source": [
        "## Text Preprocessing\n"
      ]
    },
    {
      "cell_type": "markdown",
      "metadata": {
        "id": "KWeQN6ugkjir",
        "colab_type": "text"
      },
      "source": [
        "For these lectures, I decided to put more emphasis on modern algorithms and tools, such as transformer-based models and Transformer libraries. However, one fundamental part of every machine learning project is data exploration and data cleaning. Feeding dirty data into a model will give us results that are meaningless. Keep in mind, \"*garbage in, garbage out*\". Especially in NLP, text preprocessing/cleaning can be very sophisticated and time-consuming. We will now briefly scatch some common tools.\n",
        "\n",
        "Here an example of an original review:\n",
        "\n",
        "```\n",
        "“I love my &lt;3 iphone &amp; you’re awsm apple. DisplayIsAwesome, sooo happppppy 🙂 http://www.apple.com”\n",
        "```\n",
        "\n",
        "We will now list some common steps\n",
        "\n",
        "**Common data cleaning steps:** \n",
        "\n",
        "Each of this step is not always needed!\n",
        "\n",
        "1. Make text all lower case \n",
        "2. Expand abbreviations\n",
        "3. Remove punctuation\n",
        "4. Remove numerical values or converting numbers into words\n",
        "5. Remove extra whitespace\n",
        "6. Remove stop words\n",
        "\n",
        "**More data preprocessing steps after tokenization:**\n",
        "\n",
        "7. Tokenize text\n",
        "8. Stemming / lemmatization\n",
        "9. Parts of speech tagging\n",
        "10. NER (Named Entity Recognition)\n",
        "11. Deal with typos\n",
        "\n",
        "After this celaning pipeline, text is still in word-form. However, computer understands only numbers. Therefore, before feeding a neural network with some text, we must perform a last step\n",
        "\n",
        "12. <font color='green'> Word Embedding </font> \n",
        "\n",
        "\n",
        "So let use start with some cleaning. We will take advantage just of **re** and **string** python packages. In my personal experience, I prefer to do all these steps with bash scripting (awk, sed, grep, ecc...) but for consistency here I listed them in python. Here you can find a [one-year old notebook](https://github.com/denocris/Deep-Learning-Lectures_NLP/blob/master/01_text_preprocessing.ipynb) where I show text cleaning also with bash tools."
      ]
    },
    {
      "cell_type": "code",
      "metadata": {
        "id": "agr2a80HoD23",
        "colab_type": "code",
        "colab": {}
      },
      "source": [
        "import re\n",
        "import string\n",
        "\n",
        "\n",
        "# Text Lowercase:\n",
        "# Lowercasing the text is used to reduce the size of the vocabulary of our text data, since it reduce text entropy.\n",
        "# 'Science' and 'science' became a single word to analyze.\n",
        "def text_lowercase(text):\n",
        "    return text.lower() \n",
        "\n",
        "# Remove punctuation:\n",
        "# String punctuation = '!\"#$%&\\'()*+,-./:;<=>?@[\\\\]^_`{|}~'\n",
        "def remove_punctuation(text): \n",
        "    no_punct_text = \"\".join([char for char in text if char not in string.punctuation])\n",
        "    return no_punct_text\n",
        "\n",
        "# Remove whitespaces -----------------------------------------------------------\n",
        "# Use the join and split function to remove all the white spaces in a string\n",
        "def remove_whitespace(text): \n",
        "    return  \" \".join(text.split()) \n",
        "\n",
        "\n",
        "def remove_unwanted_text(text):\n",
        "  new_text = str(text)  \n",
        "  new_text = re.sub('3+[0-9]{9}', '<mobilephone>', new_text) # adding <mobilphone> tag\n",
        "  new_text = re.sub('\\w+@\\w+\\.[a-z]{3}', '<email>', new_text) # adding <email> tag\n",
        "  new_text = new_text.replace('1st', 'first')\n",
        "  new_text = new_text.replace('2nd', 'second')  \n",
        "  new_text = re.sub('xké|xkè|xchè|xke|xche|perche|perché', 'perchè',new_text, flags=re.IGNORECASE)\n",
        "  #new_text = re.sub('xo|xò', 'però',new_text, flags=re.IGNORECASE) \n",
        "  return new_text"
      ],
      "execution_count": 0,
      "outputs": []
    },
    {
      "cell_type": "code",
      "metadata": {
        "id": "sj5nJZyNuelk",
        "colab_type": "code",
        "colab": {}
      },
      "source": [
        "remove_unwanted_text('my 1st mail is denocris@gmail.com and my 2nd number 3234567890 xkè perche')"
      ],
      "execution_count": 0,
      "outputs": []
    },
    {
      "cell_type": "code",
      "metadata": {
        "id": "OoYFYLXYVW4x",
        "colab_type": "code",
        "colab": {}
      },
      "source": [
        "import inflect #  generate plurals, singular nouns, ordinals, cardinals, indefinite articles; convert numbers to words\n",
        "p = inflect.engine() \n",
        "p.number_to_words(35) "
      ],
      "execution_count": 0,
      "outputs": []
    },
    {
      "cell_type": "markdown",
      "metadata": {
        "id": "MA8KTKivWR1J",
        "colab_type": "text"
      },
      "source": [
        "Cleaning a text takes a lot of time. Each text is different and you can choose to remove some steps or not. For instance, in many cases, capital letters are not relevant, but in others they are. In many cases, emoticons can be removed but if you are doing sentiment analysis they can be fundamental!"
      ]
    },
    {
      "cell_type": "markdown",
      "metadata": {
        "id": "2lrg8QCvkXmt",
        "colab_type": "text"
      },
      "source": [
        "## Text Preprocessing with spaCy"
      ]
    },
    {
      "cell_type": "markdown",
      "metadata": {
        "id": "ZA_clsOD0NZm",
        "colab_type": "text"
      },
      "source": [
        "So far, we have been able to do text cleaning using only Python built-in modules like `re` and `string`. But, in order to perform next steps of pipeline, we are forced to import external open-source libraries, one of the most famous and used is spaCy. It is a free and open-source library for Natural Language Processing in Python with a lot of in-built capabilities. \n",
        "\n",
        "[spaCy](https://spacy.io/) provides a one-stop-shop for tasks commonly used in any NLP project, including:\n",
        "\n",
        "-    <font color='green'> Tokenization </font>  \n",
        "-    Lemmatization\n",
        "\n",
        "-    <font color='green'> Part-of-speech tagging </font>\n",
        "-    <font color='green'> Entity recognition </font>\n",
        "-    Dependency parsing\n",
        "-    Sentence recognition\n",
        "-    Word-to-vector transformations\n",
        "-    Many convenience methods for cleaning and normalising text\n",
        "\n",
        "\n",
        "Spacy releases general-purpose pretrained models to predict named entities, part-of-speech tags, syntactic dependencies and many others. Can be used out-of-the-box and fine-tuned on more specific data. Here you can find spaCy [Language Models](https://spacy.io/models)."
      ]
    },
    {
      "cell_type": "code",
      "metadata": {
        "id": "5nhQ4jF2hjm8",
        "colab_type": "code",
        "colab": {}
      },
      "source": [
        "import spacy\n",
        "\n",
        "# Let's load the English Language Model\n",
        "# It's the spacy nlp engine, it is initialized only once and then used for all spacy methods, in particular for POS-tag and NER. \n",
        "\n",
        "spacy_nlp = spacy.load('en_core_web_sm') "
      ],
      "execution_count": 0,
      "outputs": []
    },
    {
      "cell_type": "markdown",
      "metadata": {
        "id": "XwbawFNt39dM",
        "colab_type": "text"
      },
      "source": [
        "#### Tokenization\n",
        "\n",
        "Tokenization is the process of splitting the given text into smaller pieces called tokens. They will be the **smallest units** that the algorithm will process. It is the most important brick in all preprocessing steps. Words, numbers, punctuation marks, and others can be considered as tokens. The most simple tokenization rule could be the presence of a whitespace\n",
        "\n",
        "`“Let’s have a spritz!” --->  ['\"Let's', 'go', 'to', 'N.Y.!\"']`\n",
        "\n",
        "More complex tokenization module, such as the spaCy one, separates word by space and then applying some guidelines such as exception rule, prefix, suffix. For instance:\n",
        "\n",
        "`“Let’s have a spritz!” --->  ['Let', ''', 's', 'have', 'a', 'spritz\", '!\"']`\n",
        "\n",
        "BERT-like models (we will see) use a different kind of tokenizer, the so called word-piece tokenizer."
      ]
    },
    {
      "cell_type": "code",
      "metadata": {
        "id": "mvmj-AtUaMeD",
        "colab_type": "code",
        "colab": {}
      },
      "source": [
        "doc = spacy_nlp('Where are we heading?')\n",
        "\n",
        "tokens = [token.text for token in doc]\n",
        "print(tokens)"
      ],
      "execution_count": 0,
      "outputs": []
    },
    {
      "cell_type": "markdown",
      "metadata": {
        "id": "i9W0DCK4bdwT",
        "colab_type": "text"
      },
      "source": [
        "#### Part Of Speech (POS) Tagging\n",
        "This step and the next one we are going to see are fully part of preprocessing pipeline but, in addition, the can be see as *Information Extraction* and *Text Data Augmentation* steps. \n",
        "\n",
        "These two steps are of fundamental importance for the understanding of the semantic and lexical structure of text. \n",
        "\n",
        "Part-of-speech tagging aims to assign parts of speech to each word of a given text (such as nouns, verbs, adjectives, and others) based on its definition and its context.\n",
        "\n",
        "![alt text](https://1.bp.blogspot.com/-spGNcdlw7g4/XHY5fS25uVI/AAAAAAAABqY/63lfyQFHkl4rf1ls0vvLIBRRc8TEsBZvgCLcBGAs/s640/Capture.PNG)\n",
        "\n",
        "Part of speech general tags: Noun (N), Verb (V), Adjective(ADJ), Adverb (ADV), Preposition (P), Conjunction (CON), Pronoun(PRO), Interjection (INT)\n",
        "\n",
        "POS tagging is one of the fundamental tasks of natural language processing. For instance, it is the basis of **Word-Sense Disambiguation**.\n",
        "\n",
        "-> `Ci sei (VERB) alle sei (NUMBER)?`\n",
        "\n"
      ]
    },
    {
      "cell_type": "code",
      "metadata": {
        "id": "m0To3VKSeWYG",
        "colab_type": "code",
        "colab": {}
      },
      "source": [
        "doc = spacy_nlp(\"Can you please buy me a Sprits? It's 3.50 euros.\")\n",
        "for token in doc:\n",
        "   print(token.text, token.lemma_, token.pos_)"
      ],
      "execution_count": 0,
      "outputs": []
    },
    {
      "cell_type": "code",
      "metadata": {
        "id": "jGz-UUqddX8m",
        "colab_type": "code",
        "colab": {}
      },
      "source": [
        "displacy.render(doc, style='dep', jupyter=True)"
      ],
      "execution_count": 0,
      "outputs": []
    },
    {
      "cell_type": "markdown",
      "metadata": {
        "id": "JH_kCJmzkGYd",
        "colab_type": "text"
      },
      "source": [
        "#### Named Entity Recognition (NER)"
      ]
    },
    {
      "cell_type": "markdown",
      "metadata": {
        "id": "1-8t1Hulhwir",
        "colab_type": "text"
      },
      "source": [
        "NER, short for Named Entity Recognition is probably the first step towards **Information Extraction from unstructured text**. It basically means extracting what is a real world entity from the text (Person,Organization, Event etc)\n",
        "\n",
        "![alt text](https://miro.medium.com/max/890/1*9ICjpdIPiocUWC5oF47duw.png)"
      ]
    },
    {
      "cell_type": "code",
      "metadata": {
        "id": "6JzWzI80koyq",
        "colab_type": "code",
        "colab": {}
      },
      "source": [
        "text = \"\"\"MHPC is an innovative specialization program that prepares students for exciting careers \n",
        "in the fast-growing field of high-performance computing. Among many, there is an interesting course on \n",
        "Deep Learning by Alessio Ansuini, Cristiano De Nobili, and Piero Coronica.\n",
        "\n",
        "\"\"\"\n",
        "doc = spacy_nlp(text)\n",
        "\n",
        "for entity in doc.ents:\n",
        "    #print(spacy.explain(entity.label_))\n",
        "    spacy_expl=spacy.explain(entity.label_)\n",
        "    print(f\"{entity.text} ({entity.label_} : {spacy_expl} )\")"
      ],
      "execution_count": 0,
      "outputs": []
    },
    {
      "cell_type": "markdown",
      "metadata": {
        "id": "BF9WkgTTc1Vt",
        "colab_type": "text"
      },
      "source": [
        "Always pay attention to pre-trained models! In most of the cases, it is always necessary a fine-tuning of them on your specific dataset."
      ]
    },
    {
      "cell_type": "code",
      "metadata": {
        "id": "uUKrZzhvnSBF",
        "colab_type": "code",
        "colab": {}
      },
      "source": [
        "from spacy import displacy\n",
        "displacy.render(doc, style='ent', jupyter=True)"
      ],
      "execution_count": 0,
      "outputs": []
    },
    {
      "cell_type": "markdown",
      "metadata": {
        "id": "1WyqkEFmFj2O",
        "colab_type": "text"
      },
      "source": [
        "## Word Embedding\n"
      ]
    },
    {
      "cell_type": "markdown",
      "metadata": {
        "id": "7PFk4etA44Xa",
        "colab_type": "text"
      },
      "source": [
        "\n",
        "NLP is hard for several reasons, including that it handles **non-numerical data**: a text is represented as a sequence of chars, which is not suitable for neural networks. \n",
        "\n",
        "For this reason, it is necessary **a transformation from text to numerical values which can as much as possible keep the meaning of the word**, without losing all that which the word evokes in the human mind. \n",
        "\n",
        "This transformation is known as **Word Embedding**. We can go to a lower level of analysis and create a *Characters Embedding*, or higher and have a *Sentence Embedding*. This depends on which tokens (our atomic elements) we chose.\n",
        "\n",
        ">  —  Word embedding is the collective name for a set of language modelling and feature learning techniques in natural language processing (NLP) where words or phrases from the vocabulary are mapped to vectors of real numbers. — (Wikipedia)\n",
        "\n",
        "The best approach so far, among many, has been to map words to vectors. This allows us to endorse a word with many degrees of freedom. Moreover, once trained, an algorithm must be able to rotate random initialized vectors according to their similarity. Therefore, similar words can be placed nearby in vector space.\n",
        "\n",
        "\n",
        "<center>  <img src=\"https://docs.google.com/uc?export=download&id=1rbEhHbP8WtJ0HsKzJlXYy6K2-MHvVqU6\" width=\"650\" height=\"400\"> </center> \n",
        "\n",
        "\n",
        "There are two main Word Embeddings:\n",
        "\n",
        "-    <font color='green'> Non-contextual word embeddings </font>  \n",
        "-    <font color='green'> Contextual word embeddings </font> \n",
        "\n",
        "\n",
        "Here, a short list of most influential embedding algorithms of last years, each of these has bees state-of-the-art algoritms:\n",
        "\n",
        "- **Word2Vec** ([Mikolov et al., 2013](https://arxiv.org/abs/1301.3781));\n",
        "- **Global Vectors for Word Representation** (GloVe)  ([Pennington et al., 2014](https://www-nlp.stanford.edu/pubs/glove.pdf));\n",
        "- **FastText** ( [Mikolov et al., 2016](https://arxiv.org/abs/1607.04606));\n",
        "- **Embeddings from Language Models** (ELMo) ([Peters et al., 2018](https://arxiv.org/abs/1802.05365));\n",
        "\n",
        "... and based on transformers:\n",
        "- **Attention is all you need** (Transformers)  ([Vaswani et al., 2017 ](https://arxiv.org/abs/1706.03762));\n",
        "- **Generative Pre-Training** (GPT) ([Radford et al., 2018](https://s3-us-west-2.amazonaws.com/openai-assets/research-covers/language-unsupervised/language_understanding_paper.pdf));\n",
        "- **Bidirectional Encoder Representations from Transformers** (BERT)  ([Devlin et al., 2018](https://arxiv.org/abs/1810.04805))\n",
        "- **Others**...\n",
        "\n",
        "\n"
      ]
    },
    {
      "cell_type": "markdown",
      "metadata": {
        "id": "nSe2tzw5FgaG",
        "colab_type": "text"
      },
      "source": [
        "## Non-Contextual Word Embeddings\n"
      ]
    },
    {
      "cell_type": "markdown",
      "metadata": {
        "id": "R4PEN5khNR4m",
        "colab_type": "text"
      },
      "source": [
        "\n",
        "The main idea behind most of the NLP algorithms is the representation of a token (characters, words, or sentences) in terms of vectors in a high-dimensional space. Once this conversion is achieved, many linear algebra tools can be applied to further investigations.\n",
        "\n",
        "For the moment we will limit to **non-contextual embedding** (we will see contextual embedding later.). Regardless of multiple meanings of a given word, it will be represented by one vector. For, instance the word `second` in English will have the same vector even if its meaning can be different:\n",
        "\n",
        "`This is the second time that I try it`\n",
        "\n",
        "`He just arrived one second later`\n",
        "\n",
        "### Main idea\n",
        "\n",
        "In 2013, with [Word2Vec](https://papers.nips.cc/paper/5021-distributed-representations-of-words-and-phrases-and-their-compositionality.pdf) , Mikolov et al. at Google completely changed the embedding paradigm: from then on, embedding will be the weights of a neural network that are adjusted to minimize some loss, depending on the task. **Embedding had become a neural network algorithm.**\n",
        "\n",
        "Now, let us take a very simple example to understand why the approach of considering words as vectors is so successful. Suppose to train a black-box algorithm (we will see in detail it later) that gives you back the following **trained vectors** for the words Trieste, sea, and Milan."
      ]
    },
    {
      "cell_type": "code",
      "metadata": {
        "id": "EvF0jaYXrw9-",
        "colab_type": "code",
        "colab": {}
      },
      "source": [
        "import numpy as np\n",
        "\n",
        "# vector representing the word 'Trieste'\n",
        "vec1_trieste= np.array([0.9, 0.82, 0.75])\n",
        "\n",
        "# vector representing the word 'sea'\n",
        "vec2_sea = np.array([0.5, 0.98, 0.92])\n",
        "\n",
        "# vector representing the word 'Milan'\n",
        "vec3_milan = np.array([0.91, 0.11, 0.25])"
      ],
      "execution_count": 0,
      "outputs": []
    },
    {
      "cell_type": "markdown",
      "metadata": {
        "id": "bGsBtf25xhe7",
        "colab_type": "text"
      },
      "source": [
        "Now we can measure the similarity between vectors taking advantage of the (normalized) scalar product, often named cosine similarity."
      ]
    },
    {
      "cell_type": "code",
      "metadata": {
        "id": "luooX67XxkrA",
        "colab_type": "code",
        "colab": {}
      },
      "source": [
        "def cosine_similarity(w1, w2):\n",
        "  return np.dot(w1,w2)/(np.dot(w1,w1)*np.dot(w2,w2))**0.5"
      ],
      "execution_count": 0,
      "outputs": []
    },
    {
      "cell_type": "code",
      "metadata": {
        "id": "rrOppAqcxnz8",
        "colab_type": "code",
        "colab": {}
      },
      "source": [
        "print('Similarity between Trieste & Sea:   ', cosine_similarity(vec1_trieste,vec2_sea))\n",
        "\n",
        "print('Similarity between Trieste & Milan: ', cosine_similarity(vec1_trieste,vec3_milan))\n",
        "\n",
        "print('Similarity between Milan & Sea:    ', cosine_similarity(vec3_milan, vec2_sea))"
      ],
      "execution_count": 0,
      "outputs": []
    },
    {
      "cell_type": "markdown",
      "metadata": {
        "id": "VH3CaSHizdqQ",
        "colab_type": "text"
      },
      "source": [
        "**Key point**: how to find out the best vector representation of a give word?\n",
        "\n",
        "That's about choosing the proper algorithm that it is able to process the input text and output the best representation."
      ]
    },
    {
      "cell_type": "markdown",
      "metadata": {
        "id": "USTpjSHcj3bA",
        "colab_type": "text"
      },
      "source": [
        "### Word2Vec Neural Network (code it from scratch)\n"
      ]
    },
    {
      "cell_type": "markdown",
      "metadata": {
        "id": "K88XqXECTV1f",
        "colab_type": "text"
      },
      "source": [
        "Inspired by [this blog](http://mccormickml.com/2016/04/19/word2vec-tutorial-the-skip-gram-model/):\n",
        "\n",
        "* We will code from scratch the skip-gram neural network architecture for [Word2Vec](https://papers.nips.cc/paper/5021-distributed-representations-of-words-and-phrases-and-their-compositionality.pdf). The skip-gram neural network model is surprisingly simple in its most basic form;\n",
        "\n",
        "* The goal is to understand its principle and recap some basics understanding of deep learning using PyTorch.\n",
        "\n",
        "We will train a simple neural network with a single hidden layer to perform a certain task, but then we are not actually going to use that neural network for the task we trained it on! Instead, the goal is just to learn the weights of the hidden layer (Somehow this is similar to autoencoders goal). At the end, we will see that these weights are the *word vectors* that we are trying to learn.\n",
        "\n",
        "We will train the NN to do the following. Given a specific word in the middle of a sentence (the input word), look at the words nearby (window size) and pick one at random. Once trained, the NN will tell us the probability for every word in our vocabulary of being the nearby word that we choose.\n",
        "\n",
        "For instance, if we gave the trained network the input word *Friuli*, the output probabilities will be higher for words like *Venezia* and *Giulia* than *spaghetti* and *mandolino*.\n",
        "\n",
        "Word2Vec can be structured using two different approach:\n",
        "\n",
        "* CBOW: The neural network takes a look at the surrounding words and predicts the word that comes in between.\n",
        "\n",
        "* SkipGram: The neural network takes in a word and then tries to predict the surrounding words.\n",
        "\n",
        "We will code SkipGram."
      ]
    },
    {
      "cell_type": "code",
      "metadata": {
        "id": "2zxA3iYHQ0sh",
        "colab_type": "code",
        "colab": {}
      },
      "source": [
        "import numpy as np\n",
        "import torch\n",
        "import torch.nn as nn\n",
        "import torch.optim as optim\n",
        "from torch.autograd import Variable\n",
        "import matplotlib.pyplot as plt\n",
        "\n",
        "dtype = torch.FloatTensor\n",
        "\n",
        "# 3 Words Sentence (to semplify)\n",
        "# All them form our text corpus\n",
        "sentences = [ \"i like dog\", \"i like cat\", \"i like animal\",\n",
        "              \"dog cat animal\", \"apple cat dog like\", \"dog fish milk like\",\n",
        "              \"dog cat eyes like\", \"i like apple\", \"apple i hate\",\n",
        "              \"apple i movie\", \"book music like\", \"cat dog hate\", \"cat dog like\"]\n",
        "\n",
        "# list all the words present in our corpus\n",
        "word_sequence = \" \".join(sentences).split()\n",
        "print(word_sequence )\n",
        "# build the vocabulary\n",
        "word_list = list(set(word_sequence))\n",
        "print(word_list)\n",
        "word_dict = {w: i for i, w in enumerate(word_list)}\n",
        "print(word_dict)\n",
        "\n",
        "# Word2Vec Parameter\n",
        "batch_size = 20  # To show 2 dim embedding graph\n",
        "embedding_size = 2  # To show 2 dim embedding graph\n",
        "voc_size = len(word_list)\n"
      ],
      "execution_count": 0,
      "outputs": []
    },
    {
      "cell_type": "code",
      "metadata": {
        "id": "1V7UxOXNhurO",
        "colab_type": "code",
        "colab": {}
      },
      "source": [
        "# input word\n",
        "i = 1 \n",
        "print(word_sequence[i], word_dict[word_sequence[i]])"
      ],
      "execution_count": 0,
      "outputs": []
    },
    {
      "cell_type": "code",
      "metadata": {
        "id": "__-rG0E2isup",
        "colab_type": "code",
        "colab": {}
      },
      "source": [
        "# context words\n",
        "print(word_sequence[i - 1], word_sequence[i + 1])\n",
        "print([word_dict[word_sequence[i - 1]], word_dict[word_sequence[i + 1]]])"
      ],
      "execution_count": 0,
      "outputs": []
    },
    {
      "cell_type": "markdown",
      "metadata": {
        "id": "RbURiETUoDU4",
        "colab_type": "text"
      },
      "source": [
        "Chosen word `like`, context words `i` and `dog`: <font color='green'> i </font>  like <font color='green'> dogs </font> \n",
        "\n"
      ]
    },
    {
      "cell_type": "code",
      "metadata": {
        "id": "fusNAmdNhEKe",
        "colab_type": "code",
        "colab": {}
      },
      "source": [
        "# Make skip gram of one size window\n",
        "skip_grams = []\n",
        "for i in range(1, len(word_sequence) - 1):\n",
        "    target = word_dict[word_sequence[i]]\n",
        "    context = [word_dict[word_sequence[i - 1]], word_dict[word_sequence[i + 1]]]\n",
        "\n",
        "    for w in context:\n",
        "        skip_grams.append([target, w])\n",
        "\n",
        "skip_grams[:6]"
      ],
      "execution_count": 0,
      "outputs": []
    },
    {
      "cell_type": "code",
      "metadata": {
        "id": "aFjKmuGYkXBf",
        "colab_type": "code",
        "colab": {}
      },
      "source": [
        "# np.eye() Return a 2-D array with ones on the diagonal and zeros elsewhere.\n",
        "np.eye(5)"
      ],
      "execution_count": 0,
      "outputs": []
    },
    {
      "cell_type": "code",
      "metadata": {
        "id": "dVDRWdiDhF9N",
        "colab_type": "code",
        "colab": {}
      },
      "source": [
        "np.random.seed(172)\n",
        "\n",
        "def random_batch(data, size):\n",
        "    random_inputs = []\n",
        "    random_labels = []\n",
        "    random_index = np.random.choice(range(len(data)), size, replace=False)\n",
        "\n",
        "    for i in random_index:\n",
        "        # one-hot encoding of words\n",
        "        random_inputs.append(np.eye(voc_size)[data[i][0]])  # input\n",
        "        random_labels.append(data[i][1])  # context word\n",
        "\n",
        "    return random_inputs, random_labels\n",
        "\n",
        "random_batch(skip_grams[:6], size=3)\n",
        "\n",
        "# inputs: like, i, dog , context: i, dog, i"
      ],
      "execution_count": 0,
      "outputs": []
    },
    {
      "cell_type": "markdown",
      "metadata": {
        "id": "cTkk4VUP4s6A",
        "colab_type": "text"
      },
      "source": [
        "Here a scatch of our model. There is no activation function on the hidden layer neurons, but the output neurons use softmax. \n",
        "\n",
        "![alt text](http://mccormickml.com/assets/word2vec/skip_gram_net_arch.png)"
      ]
    },
    {
      "cell_type": "code",
      "metadata": {
        "id": "MNIS3qRdm_Lx",
        "colab_type": "code",
        "colab": {}
      },
      "source": [
        "# Model\n",
        "class Word2Vec(nn.Module):\n",
        "    def __init__(self):\n",
        "        super(Word2Vec, self).__init__()\n",
        "\n",
        "        # parameters between -1 and + 1\n",
        "        self.W = nn.Parameter(-2 * torch.rand(voc_size, embedding_size) + 1).type(dtype) # voc_size > embedding_size Weight\n",
        "        self.V = nn.Parameter(-2 * torch.rand(embedding_size, voc_size) + 1).type(dtype) # embedding_size > voc_size Weight\n",
        "\n",
        "    def forward(self, X):\n",
        "        # X : [batch_size, voc_size], self.W: [voc_size, embedding_size]\n",
        "        hidden_layer = torch.matmul(X, self.W) # hidden_layer : [batch_size, embedding_size]\n",
        "        # self.V: [voc_size, embedding_size]\n",
        "        output_layer = torch.matmul(hidden_layer, self.V) # output_layer : [batch_size, voc_size]\n",
        "        return output_layer\n",
        "\n",
        "model = Word2Vec()\n",
        "# Set the model in train mode\n",
        "model.train()\n",
        "\n",
        "criterion = nn.CrossEntropyLoss() # Softmax (for multi-class classification problems) is already included\n",
        "optimizer = optim.Adam(model.parameters(), lr=0.001)"
      ],
      "execution_count": 0,
      "outputs": []
    },
    {
      "cell_type": "markdown",
      "metadata": {
        "id": "w4iP6LaT079O",
        "colab_type": "text"
      },
      "source": [
        "<center>  <img src=\"https://docs.google.com/uc?export=download&id=1gl-0b4kQCuj68Ww43k6EVoTL2xfJjbXH\" width=\"650\" height=\"400\"> </center> \n"
      ]
    },
    {
      "cell_type": "code",
      "metadata": {
        "id": "J_TwkQygquXz",
        "colab_type": "code",
        "colab": {}
      },
      "source": [
        "# Training\n",
        "for epoch in range(5000):\n",
        "\n",
        "    input_batch, target_batch = random_batch(skip_grams, batch_size)\n",
        "\n",
        "    # new_tensor(data, dtype=None, device=None, requires_grad=False)\n",
        "    input_batch = torch.Tensor(input_batch)\n",
        "    target_batch = torch.LongTensor(target_batch)\n",
        "\n",
        "    optimizer.zero_grad()\n",
        "    output = model(input_batch)\n",
        "\n",
        "    # output : [batch_size, voc_size], target_batch : [batch_size] (LongTensor, not one-hot)\n",
        "    loss = criterion(output, target_batch)\n",
        "    if (epoch + 1)%1000 == 0:\n",
        "        print('Epoch:', '%04d' % (epoch + 1), 'cost =', '{:.6f}'.format(loss))\n",
        "\n",
        "    loss.backward()\n",
        "    optimizer.step()\n"
      ],
      "execution_count": 0,
      "outputs": []
    },
    {
      "cell_type": "markdown",
      "metadata": {
        "id": "8LHlIKKfhUiV",
        "colab_type": "text"
      },
      "source": [
        "Now that the training has just finished, we can extract the **learned embeddings**\n"
      ]
    },
    {
      "cell_type": "code",
      "metadata": {
        "id": "5Qy0eCTfg0n8",
        "colab_type": "code",
        "colab": {}
      },
      "source": [
        "# Learned W\n",
        "print(W)"
      ],
      "execution_count": 0,
      "outputs": []
    },
    {
      "cell_type": "code",
      "metadata": {
        "id": "icd0VwtrwRBL",
        "colab_type": "code",
        "outputId": "4412b788-1824-4600-cb98-d463eff2f292",
        "colab": {
          "base_uri": "https://localhost:8080/",
          "height": 267
        }
      },
      "source": [
        "for i, word in enumerate(word_list):\n",
        "    W, _= model.parameters()\n",
        "    x,y = float(W[i][0]), float(W[i][1])\n",
        "    plt.scatter(x, y)\n",
        "    plt.annotate(word, xy=(x, y), xytext=(5, 2), textcoords='offset points', ha='right', va='bottom')\n",
        "plt.show()"
      ],
      "execution_count": 32,
      "outputs": [
        {
          "output_type": "display_data",
          "data": {
            "image/png": "[encoded data removed]",
            "text/plain": [
              "<Figure size 432x288 with 1 Axes>"
            ]
          },
          "metadata": {
            "tags": [],
            "needs_background": "light"
          }
        }
      ]
    },
    {
      "cell_type": "markdown",
      "metadata": {
        "id": "sSxQyMcJ5NmF",
        "colab_type": "text"
      },
      "source": [
        "Ok, this plot and embeddings make no sense. This was just a simple example. Its aim was just to show you how to build from scratch a Word2vec. Now we will use an already (well) trained embedding..."
      ]
    },
    {
      "cell_type": "markdown",
      "metadata": {
        "id": "_nUazbJq1R9Q",
        "colab_type": "text"
      },
      "source": [
        "### Pre-trained (non-contextual) Word Embedding - Glove\n",
        "\n",
        "[GloVe](https://nlp.stanford.edu/projects/glove/) is an unsupervised learning algorithm for obtaining vector representations for words. \n",
        "\n",
        "Now, using [gensim](https://github.com/RaRe-Technologies/gensim/#documentation), we download a pre-trained English embedding that was trained on Wikipedia and others open datasets."
      ]
    },
    {
      "cell_type": "code",
      "metadata": {
        "id": "NzivCJZM3G8j",
        "colab_type": "code",
        "colab": {}
      },
      "source": [
        "import gensim.downloader as api\n",
        "word_vectors = api.load(\"glove-wiki-gigaword-100\")  # load pre-trained word-vectors from gensim-data"
      ],
      "execution_count": 0,
      "outputs": []
    },
    {
      "cell_type": "markdown",
      "metadata": {
        "id": "53hNkDCS50lg",
        "colab_type": "text"
      },
      "source": [
        "Given a word (i.e. a vector), we can find its most similar word (i.e. closest vectors)."
      ]
    },
    {
      "cell_type": "code",
      "metadata": {
        "id": "GqZsfJV85zb6",
        "colab_type": "code",
        "colab": {}
      },
      "source": [
        "word_vectors.most_similar('airplane'), word_vectors.most_similar('sea')"
      ],
      "execution_count": 0,
      "outputs": []
    },
    {
      "cell_type": "code",
      "metadata": {
        "id": "P02favbA5414",
        "colab_type": "code",
        "colab": {}
      },
      "source": [
        "word_vectors.most_similar('second'), word_vectors.most_similar('lie')"
      ],
      "execution_count": 0,
      "outputs": []
    },
    {
      "cell_type": "markdown",
      "metadata": {
        "id": "Dr6VnCmC599Z",
        "colab_type": "text"
      },
      "source": [
        "Once a word is a vector, not only you can compute similarities between words but also operations. Let's have a look:"
      ]
    },
    {
      "cell_type": "code",
      "metadata": {
        "id": "DK12w-EL6ElZ",
        "colab_type": "code",
        "colab": {}
      },
      "source": [
        "result = word_vectors.most_similar(positive=['helicopter', 'wings'])\n",
        "print(\"{}: {:.4f}\".format(*result[0]))"
      ],
      "execution_count": 0,
      "outputs": []
    },
    {
      "cell_type": "code",
      "metadata": {
        "id": "vjxhOxOJ6I2R",
        "colab_type": "code",
        "colab": {}
      },
      "source": [
        "result = word_vectors.most_similar(positive=['plane'], negative=['wings'])\n",
        "print(\"{}: {:.4f}\".format(*result[0]))"
      ],
      "execution_count": 0,
      "outputs": []
    },
    {
      "cell_type": "markdown",
      "metadata": {
        "id": "LGACzUOV6QHh",
        "colab_type": "text"
      },
      "source": [
        "And again..."
      ]
    },
    {
      "cell_type": "code",
      "metadata": {
        "id": "4eQeZPRk6LpC",
        "colab_type": "code",
        "colab": {}
      },
      "source": [
        "result = word_vectors.most_similar(positive=['woman', 'king'], negative=['man'])\n",
        "print(\"{}: {:.4f}\".format(*result[0]))\n",
        "\n",
        "result = word_vectors.most_similar(positive=['man', 'queen'], negative=['woman'])\n",
        "print(\"{}: {:.4f}\".format(*result[0]))"
      ],
      "execution_count": 0,
      "outputs": []
    },
    {
      "cell_type": "markdown",
      "metadata": {
        "id": "GyUTMlXv6U6x",
        "colab_type": "text"
      },
      "source": [
        "look this..."
      ]
    },
    {
      "cell_type": "code",
      "metadata": {
        "id": "IOT81NM86WF5",
        "colab_type": "code",
        "colab": {}
      },
      "source": [
        "result = word_vectors.most_similar(positive=['thames', 'paris'], negative=['london'])\n",
        "print(\"{}: {:.4f}\".format(*result[0]))"
      ],
      "execution_count": 0,
      "outputs": []
    },
    {
      "cell_type": "markdown",
      "metadata": {
        "id": "qCaK8Ud06a9O",
        "colab_type": "text"
      },
      "source": [
        "*Find* the intruder:"
      ]
    },
    {
      "cell_type": "code",
      "metadata": {
        "id": "6jBaRrYK6Y1C",
        "colab_type": "code",
        "colab": {}
      },
      "source": [
        "print(word_vectors.doesnt_match(\"breakfast cereal dinner lunch\".split()))\n",
        "print(word_vectors.doesnt_match(\"obama kennedy trump dylan\".split()))\n",
        "print(word_vectors.doesnt_match(\"paris milano moscow hamburg madrid cake\".split()))"
      ],
      "execution_count": 0,
      "outputs": []
    },
    {
      "cell_type": "markdown",
      "metadata": {
        "id": "pO8d1MqVFZX5",
        "colab_type": "text"
      },
      "source": [
        "## Contextual Embeddings\n"
      ]
    },
    {
      "cell_type": "markdown",
      "metadata": {
        "id": "o6G64dxRRxZf",
        "colab_type": "text"
      },
      "source": [
        "To have a wider overview I suggest you this slide from [Stanford Edu](https://web.stanford.edu/class/cs224n/slides/Jacob_Devlin_BERT.pdf). They are about Pre-trained Contextual Embedding history and zoology.\n",
        "\n",
        "Previously, we associated a vector at each word. The correspondence was one-to-one. However, words can have different meanings in different contexts.\n",
        "\n",
        "Thus, we need an embedding mechanism that can understand a word in its context.\n",
        "The main goal of contextual word embedding is to try to capture a word token’s meaning primarily through the specific context it appears in. This means that every instance of *secondo* will have a different word vector; those with a context that looks similar are expected to be close to each other, while those with a contexts that looks different will cluster elsewhere in vector space.\n",
        "\n",
        "<center>  <img src=\"https://docs.google.com/uc?export=download&id=1RkOQccAo00Q-KU3ROk5oe3PcnqlAx99u\" width=\"650\" height=\"400\"> </center> \n",
        "\n",
        "The topic of contextual embedding is very interesting and recent (a bit more than a couple of years!). Despite its young age, in these two years, lots of papers and models have been produced. The fundamental unit of state-of-the-art models, called **Transformer architecture**, is too complicated to code from scratch in a limited time.\n",
        "\n",
        "Therefore, in these lectures (Next Notebook) we will limit ourself to:\n",
        "\n",
        "- Have an intuition about the basic mechanism behind Transformers: The Attention Mechanism\n",
        "\n",
        "- Intruducing BERT-like models and use them as a tool to solve a complex task.\n",
        "\n",
        ">  —  The reasons for BERT's state-of-the-art performance on these natural language understanding tasks are not yet well understood. — (Wikipedia)"
      ]
    },
    {
      "cell_type": "markdown",
      "metadata": {
        "id": "2gVgjmtBQ5nS",
        "colab_type": "text"
      },
      "source": [
        "### The Self-Attention Mechanism\n",
        "\n",
        "The Attention Mechanism, especially self-attention, is the main idea behind recent outstanding progress in NLP (and not only!). In particular, it is the core idea behind the Transformer architecture, first exposed in this revolutionary paper [Vaswani & al., 2017](https://arxiv.org/abs/1706.03762) by Google Brain.\n",
        "\n",
        "One advantage of Transformer over its RNN counterpart (previous state-of-the-art model) it its non-sequential attention model. Remember, the RNNs has to\n",
        "iterate over each element of the input sequence one-by-one and carry an \"updatable-state\" between each hop. With a Transformer, the model is able to look at every position in the sequence, at the same time, in one operation.\n",
        "\n",
        "To have an intuitive idea about we will go through these [slides](https://docs.google.com/presentation/d/1HVAYCflD-KlQ6LOpkPCEqd-LVnx8gyIY6D1hykKvhCU/edit?usp=sharing).\n",
        "\n",
        "\n",
        "<center>  <img src=\"https://docs.google.com/uc?export=download&id=1cujjCUV98lgKX6Qv13G2F6s5LTwkod5K\" width=\"600\" height=\"600\"> </center> "
      ]
    }
  ]
}